{
 "cells": [
  {
   "cell_type": "markdown",
   "id": "df2f5ba6-38d7-4abd-b9b5-d74f0c65219b",
   "metadata": {},
   "source": [
    "Import Necessary Libraries"
   ]
  },
  {
   "cell_type": "code",
   "execution_count": 1,
   "id": "42d34888-6968-4b3b-a63b-7d5840ada9d4",
   "metadata": {},
   "outputs": [],
   "source": [
    "import pandas as pd\n",
    "import numpy as np\n",
    "import matplotlib.pyplot as plt\n",
    "import seaborn as sns\n",
    "from sklearn.model_selection import train_test_split\n",
    "from sklearn.linear_model import LogisticRegression\n",
    "from sklearn.metrics import classification_report, confusion_matrix, accuracy_score\n"
   ]
  },
  {
   "cell_type": "markdown",
   "id": "8c74fc51-f525-4d6e-97a8-609d01a38251",
   "metadata": {},
   "source": [
    "Load the dataset"
   ]
  },
  {
   "cell_type": "code",
   "execution_count": 3,
   "id": "31ac31e9-daad-4c59-ad86-62531ea8d401",
   "metadata": {},
   "outputs": [
    {
     "data": {
      "text/html": [
       "<div>\n",
       "<style scoped>\n",
       "    .dataframe tbody tr th:only-of-type {\n",
       "        vertical-align: middle;\n",
       "    }\n",
       "\n",
       "    .dataframe tbody tr th {\n",
       "        vertical-align: top;\n",
       "    }\n",
       "\n",
       "    .dataframe thead th {\n",
       "        text-align: right;\n",
       "    }\n",
       "</style>\n",
       "<table border=\"1\" class=\"dataframe\">\n",
       "  <thead>\n",
       "    <tr style=\"text-align: right;\">\n",
       "      <th></th>\n",
       "      <th>CustomerID</th>\n",
       "      <th>Gender</th>\n",
       "      <th>SeniorCitizen</th>\n",
       "      <th>Partner</th>\n",
       "      <th>Dependents</th>\n",
       "      <th>Tenure</th>\n",
       "      <th>PhoneService</th>\n",
       "      <th>MultipleLines</th>\n",
       "      <th>InternetService</th>\n",
       "      <th>OnlineSecurity</th>\n",
       "      <th>...</th>\n",
       "      <th>DeviceProtection</th>\n",
       "      <th>TechSupport</th>\n",
       "      <th>StreamingTV</th>\n",
       "      <th>StreamingMovies</th>\n",
       "      <th>Contract</th>\n",
       "      <th>PaperlessBilling</th>\n",
       "      <th>PaymentMethod</th>\n",
       "      <th>MonthlyCharges</th>\n",
       "      <th>TotalCharges</th>\n",
       "      <th>Churn</th>\n",
       "    </tr>\n",
       "  </thead>\n",
       "  <tbody>\n",
       "    <tr>\n",
       "      <th>0</th>\n",
       "      <td>1</td>\n",
       "      <td>Male</td>\n",
       "      <td>0</td>\n",
       "      <td>Yes</td>\n",
       "      <td>No</td>\n",
       "      <td>1</td>\n",
       "      <td>Yes</td>\n",
       "      <td>No</td>\n",
       "      <td>DSL</td>\n",
       "      <td>Yes</td>\n",
       "      <td>...</td>\n",
       "      <td>Yes</td>\n",
       "      <td>No</td>\n",
       "      <td>No</td>\n",
       "      <td>Yes</td>\n",
       "      <td>Month-to-month</td>\n",
       "      <td>Yes</td>\n",
       "      <td>Electronic check</td>\n",
       "      <td>21</td>\n",
       "      <td>250</td>\n",
       "      <td>Yes</td>\n",
       "    </tr>\n",
       "    <tr>\n",
       "      <th>1</th>\n",
       "      <td>2</td>\n",
       "      <td>Female</td>\n",
       "      <td>1</td>\n",
       "      <td>No</td>\n",
       "      <td>Yes</td>\n",
       "      <td>2</td>\n",
       "      <td>No</td>\n",
       "      <td>Yes</td>\n",
       "      <td>Fiber optic</td>\n",
       "      <td>No</td>\n",
       "      <td>...</td>\n",
       "      <td>No</td>\n",
       "      <td>Yes</td>\n",
       "      <td>Yes</td>\n",
       "      <td>No</td>\n",
       "      <td>One year</td>\n",
       "      <td>No</td>\n",
       "      <td>Mailed check</td>\n",
       "      <td>22</td>\n",
       "      <td>300</td>\n",
       "      <td>No</td>\n",
       "    </tr>\n",
       "    <tr>\n",
       "      <th>2</th>\n",
       "      <td>3</td>\n",
       "      <td>Male</td>\n",
       "      <td>0</td>\n",
       "      <td>Yes</td>\n",
       "      <td>No</td>\n",
       "      <td>3</td>\n",
       "      <td>Yes</td>\n",
       "      <td>No</td>\n",
       "      <td>No</td>\n",
       "      <td>Yes</td>\n",
       "      <td>...</td>\n",
       "      <td>Yes</td>\n",
       "      <td>No</td>\n",
       "      <td>No</td>\n",
       "      <td>Yes</td>\n",
       "      <td>Two year</td>\n",
       "      <td>Yes</td>\n",
       "      <td>Bank transfer (automatic)</td>\n",
       "      <td>23</td>\n",
       "      <td>350</td>\n",
       "      <td>Yes</td>\n",
       "    </tr>\n",
       "    <tr>\n",
       "      <th>3</th>\n",
       "      <td>4</td>\n",
       "      <td>Female</td>\n",
       "      <td>1</td>\n",
       "      <td>No</td>\n",
       "      <td>Yes</td>\n",
       "      <td>4</td>\n",
       "      <td>No</td>\n",
       "      <td>Yes</td>\n",
       "      <td>DSL</td>\n",
       "      <td>No</td>\n",
       "      <td>...</td>\n",
       "      <td>No</td>\n",
       "      <td>Yes</td>\n",
       "      <td>Yes</td>\n",
       "      <td>No</td>\n",
       "      <td>Month-to-month</td>\n",
       "      <td>No</td>\n",
       "      <td>Credit card (automatic)</td>\n",
       "      <td>24</td>\n",
       "      <td>400</td>\n",
       "      <td>No</td>\n",
       "    </tr>\n",
       "    <tr>\n",
       "      <th>4</th>\n",
       "      <td>5</td>\n",
       "      <td>Male</td>\n",
       "      <td>0</td>\n",
       "      <td>Yes</td>\n",
       "      <td>No</td>\n",
       "      <td>5</td>\n",
       "      <td>Yes</td>\n",
       "      <td>No</td>\n",
       "      <td>Fiber optic</td>\n",
       "      <td>Yes</td>\n",
       "      <td>...</td>\n",
       "      <td>Yes</td>\n",
       "      <td>No</td>\n",
       "      <td>No</td>\n",
       "      <td>Yes</td>\n",
       "      <td>One year</td>\n",
       "      <td>Yes</td>\n",
       "      <td>Electronic check</td>\n",
       "      <td>25</td>\n",
       "      <td>450</td>\n",
       "      <td>Yes</td>\n",
       "    </tr>\n",
       "  </tbody>\n",
       "</table>\n",
       "<p>5 rows × 21 columns</p>\n",
       "</div>"
      ],
      "text/plain": [
       "   CustomerID  Gender  SeniorCitizen Partner Dependents  Tenure PhoneService  \\\n",
       "0           1    Male              0     Yes         No       1          Yes   \n",
       "1           2  Female              1      No        Yes       2           No   \n",
       "2           3    Male              0     Yes         No       3          Yes   \n",
       "3           4  Female              1      No        Yes       4           No   \n",
       "4           5    Male              0     Yes         No       5          Yes   \n",
       "\n",
       "  MultipleLines InternetService OnlineSecurity  ... DeviceProtection  \\\n",
       "0            No             DSL            Yes  ...              Yes   \n",
       "1           Yes     Fiber optic             No  ...               No   \n",
       "2            No              No            Yes  ...              Yes   \n",
       "3           Yes             DSL             No  ...               No   \n",
       "4            No     Fiber optic            Yes  ...              Yes   \n",
       "\n",
       "  TechSupport StreamingTV StreamingMovies        Contract PaperlessBilling  \\\n",
       "0          No          No             Yes  Month-to-month              Yes   \n",
       "1         Yes         Yes              No        One year               No   \n",
       "2          No          No             Yes        Two year              Yes   \n",
       "3         Yes         Yes              No  Month-to-month               No   \n",
       "4          No          No             Yes        One year              Yes   \n",
       "\n",
       "               PaymentMethod MonthlyCharges  TotalCharges  Churn  \n",
       "0           Electronic check             21           250    Yes  \n",
       "1               Mailed check             22           300     No  \n",
       "2  Bank transfer (automatic)             23           350    Yes  \n",
       "3    Credit card (automatic)             24           400     No  \n",
       "4           Electronic check             25           450    Yes  \n",
       "\n",
       "[5 rows x 21 columns]"
      ]
     },
     "execution_count": 3,
     "metadata": {},
     "output_type": "execute_result"
    }
   ],
   "source": [
    "df = pd.read_csv('Dataset 105.csv')\n",
    "df.head()  # Display the first few rows\n"
   ]
  },
  {
   "cell_type": "markdown",
   "id": "ac73b5c0-c516-4ce1-ba43-71e3bc2fc987",
   "metadata": {},
   "source": [
    "Data cleaning: Check for missing values, duplicates, and clean the data"
   ]
  },
  {
   "cell_type": "code",
   "execution_count": 5,
   "id": "5944b9a5-2490-464a-9f38-411d42ce4140",
   "metadata": {},
   "outputs": [],
   "source": [
    "df.isnull().sum()  # Check for missing values\n",
    "df.drop_duplicates(inplace=True)  # Remove duplicates\n"
   ]
  },
  {
   "cell_type": "markdown",
   "id": "0d58263a-031e-4189-a55c-38468dceaa7d",
   "metadata": {},
   "source": [
    "Using visualizations and descriptive statistics to understand the data"
   ]
  },
  {
   "cell_type": "code",
   "execution_count": 6,
   "id": "e82808a0-082e-414c-8d62-5ae1acbe35ff",
   "metadata": {},
   "outputs": [
    {
     "data": {
      "text/html": [
       "<div>\n",
       "<style scoped>\n",
       "    .dataframe tbody tr th:only-of-type {\n",
       "        vertical-align: middle;\n",
       "    }\n",
       "\n",
       "    .dataframe tbody tr th {\n",
       "        vertical-align: top;\n",
       "    }\n",
       "\n",
       "    .dataframe thead th {\n",
       "        text-align: right;\n",
       "    }\n",
       "</style>\n",
       "<table border=\"1\" class=\"dataframe\">\n",
       "  <thead>\n",
       "    <tr style=\"text-align: right;\">\n",
       "      <th></th>\n",
       "      <th>CustomerID</th>\n",
       "      <th>SeniorCitizen</th>\n",
       "      <th>Tenure</th>\n",
       "      <th>MonthlyCharges</th>\n",
       "      <th>TotalCharges</th>\n",
       "    </tr>\n",
       "  </thead>\n",
       "  <tbody>\n",
       "    <tr>\n",
       "      <th>count</th>\n",
       "      <td>100.000000</td>\n",
       "      <td>100.000000</td>\n",
       "      <td>100.000000</td>\n",
       "      <td>100.000000</td>\n",
       "      <td>100.000000</td>\n",
       "    </tr>\n",
       "    <tr>\n",
       "      <th>mean</th>\n",
       "      <td>50.500000</td>\n",
       "      <td>0.500000</td>\n",
       "      <td>29.620000</td>\n",
       "      <td>53.700000</td>\n",
       "      <td>2725.000000</td>\n",
       "    </tr>\n",
       "    <tr>\n",
       "      <th>std</th>\n",
       "      <td>29.011492</td>\n",
       "      <td>0.502519</td>\n",
       "      <td>20.551871</td>\n",
       "      <td>23.948809</td>\n",
       "      <td>1450.574599</td>\n",
       "    </tr>\n",
       "    <tr>\n",
       "      <th>min</th>\n",
       "      <td>1.000000</td>\n",
       "      <td>0.000000</td>\n",
       "      <td>0.000000</td>\n",
       "      <td>20.000000</td>\n",
       "      <td>250.000000</td>\n",
       "    </tr>\n",
       "    <tr>\n",
       "      <th>25%</th>\n",
       "      <td>25.750000</td>\n",
       "      <td>0.000000</td>\n",
       "      <td>12.750000</td>\n",
       "      <td>32.750000</td>\n",
       "      <td>1487.500000</td>\n",
       "    </tr>\n",
       "    <tr>\n",
       "      <th>50%</th>\n",
       "      <td>50.500000</td>\n",
       "      <td>0.500000</td>\n",
       "      <td>25.000000</td>\n",
       "      <td>49.500000</td>\n",
       "      <td>2725.000000</td>\n",
       "    </tr>\n",
       "    <tr>\n",
       "      <th>75%</th>\n",
       "      <td>75.250000</td>\n",
       "      <td>1.000000</td>\n",
       "      <td>46.250000</td>\n",
       "      <td>74.250000</td>\n",
       "      <td>3962.500000</td>\n",
       "    </tr>\n",
       "    <tr>\n",
       "      <th>max</th>\n",
       "      <td>100.000000</td>\n",
       "      <td>1.000000</td>\n",
       "      <td>71.000000</td>\n",
       "      <td>99.000000</td>\n",
       "      <td>5200.000000</td>\n",
       "    </tr>\n",
       "  </tbody>\n",
       "</table>\n",
       "</div>"
      ],
      "text/plain": [
       "       CustomerID  SeniorCitizen      Tenure  MonthlyCharges  TotalCharges\n",
       "count  100.000000     100.000000  100.000000      100.000000    100.000000\n",
       "mean    50.500000       0.500000   29.620000       53.700000   2725.000000\n",
       "std     29.011492       0.502519   20.551871       23.948809   1450.574599\n",
       "min      1.000000       0.000000    0.000000       20.000000    250.000000\n",
       "25%     25.750000       0.000000   12.750000       32.750000   1487.500000\n",
       "50%     50.500000       0.500000   25.000000       49.500000   2725.000000\n",
       "75%     75.250000       1.000000   46.250000       74.250000   3962.500000\n",
       "max    100.000000       1.000000   71.000000       99.000000   5200.000000"
      ]
     },
     "execution_count": 6,
     "metadata": {},
     "output_type": "execute_result"
    },
    {
     "data": {
      "image/png": "[encoded data removed]",
      "text/plain": [
       "<Figure size 640x480 with 1 Axes>"
      ]
     },
     "metadata": {},
     "output_type": "display_data"
    }
   ],
   "source": [
    "sns.countplot(x='Churn', data=df)  # Visualize churn distribution\n",
    "df.describe()  # Summary statistics\n"
   ]
  },
  {
   "cell_type": "markdown",
   "id": "c10f3631-b7f9-4799-ae65-cb9a1aab2265",
   "metadata": {},
   "source": [
    "Exploring relationships between features and churn"
   ]
  },
  {
   "cell_type": "code",
   "execution_count": 7,
   "id": "9842f29d-a00a-47c5-8c45-787c5efec9fb",
   "metadata": {},
   "outputs": [
    {
     "data": {
      "text/plain": [
       "<Axes: xlabel='Churn', ylabel='MonthlyCharges'>"
      ]
     },
     "execution_count": 7,
     "metadata": {},
     "output_type": "execute_result"
    },
    {
     "data": {
      "image/png": "[encoded data removed]",
      "text/plain": [
       "<Figure size 640x480 with 1 Axes>"
      ]
     },
     "metadata": {},
     "output_type": "display_data"
    }
   ],
   "source": [
    "sns.boxplot(x='Churn', y='MonthlyCharges', data=df)\n",
    "sns.histplot(df['Tenure'], kde=True)\n"
   ]
  },
  {
   "cell_type": "markdown",
   "id": "2e9af548-0679-47b2-9b45-18cb4fa198c5",
   "metadata": {},
   "source": [
    "Hypothesis Testing"
   ]
  },
  {
   "cell_type": "code",
   "execution_count": 8,
   "id": "78c853b2-da71-4f1a-80aa-08b95c41b7c4",
   "metadata": {},
   "outputs": [
    {
     "name": "stdout",
     "output_type": "stream",
     "text": [
      "T-statistic: 0.12464279971425876, P-value: 0.9010616579147837\n"
     ]
    }
   ],
   "source": [
    "# Example: T-test to compare means between churned and non-churned customers\n",
    "from scipy.stats import ttest_ind\n",
    "churned = df[df['Churn'] == 'Yes']['MonthlyCharges']\n",
    "not_churned = df[df['Churn'] == 'No']['MonthlyCharges']\n",
    "t_stat, p_val = ttest_ind(churned, not_churned)\n",
    "print(f\"T-statistic: {t_stat}, P-value: {p_val}\")\n"
   ]
  },
  {
   "cell_type": "markdown",
   "id": "df345e07-aa4a-45f4-8869-53c5cf28b31a",
   "metadata": {},
   "source": [
    "Splitting your data into training and testing sets"
   ]
  },
  {
   "cell_type": "code",
   "execution_count": 9,
   "id": "1eba9cb6-ee05-4cf3-93bf-b300737f36c5",
   "metadata": {},
   "outputs": [],
   "source": [
    "X = df.drop('Churn', axis=1)\n",
    "y = df['Churn'].apply(lambda x: 1 if x == 'Yes' else 0)\n",
    "X_train, X_test, y_train, y_test = train_test_split(X, y, test_size=0.2, random_state=42)\n"
   ]
  },
  {
   "cell_type": "markdown",
   "id": "3a4095a4-0cb1-440a-a88e-b7f1c67c3200",
   "metadata": {},
   "source": [
    "Training a Logistic Regression model"
   ]
  },
  {
   "cell_type": "code",
   "execution_count": 11,
   "id": "155e7ea4-9d6d-49aa-97cb-c5c9453bb8d4",
   "metadata": {},
   "outputs": [
    {
     "name": "stdout",
     "output_type": "stream",
     "text": [
      "[[ 8  0]\n",
      " [ 0 12]]\n",
      "              precision    recall  f1-score   support\n",
      "\n",
      "           0       1.00      1.00      1.00         8\n",
      "           1       1.00      1.00      1.00        12\n",
      "\n",
      "    accuracy                           1.00        20\n",
      "   macro avg       1.00      1.00      1.00        20\n",
      "weighted avg       1.00      1.00      1.00        20\n",
      "\n",
      "Accuracy: 1.0\n"
     ]
    }
   ],
   "source": [
    "# Convert categorical variables into dummy/indicator variables (one-hot encoding)\n",
    "X = pd.get_dummies(df.drop('Churn', axis=1))\n",
    "\n",
    "# Convert the target variable 'Churn' into binary format\n",
    "y = df['Churn'].apply(lambda x: 1 if x == 'Yes' else 0)\n",
    "\n",
    "# Split the data into training and testing sets\n",
    "X_train, X_test, y_train, y_test = train_test_split(X, y, test_size=0.2, random_state=42)\n",
    "\n",
    "# Train the Logistic Regression model\n",
    "model = LogisticRegression(max_iter=1000)\n",
    "model.fit(X_train, y_train)\n",
    "\n",
    "# Make predictions\n",
    "predictions = model.predict(X_test)\n",
    "\n",
    "# Evaluate the model\n",
    "print(confusion_matrix(y_test, predictions))\n",
    "print(classification_report(y_test, predictions))\n",
    "print(f\"Accuracy: {accuracy_score(y_test, predictions)}\")\n",
    "\n"
   ]
  },
  {
   "cell_type": "code",
   "execution_count": 12,
   "id": "41a22703-112e-4aac-af57-c53c8f88bd86",
   "metadata": {},
   "outputs": [
    {
     "name": "stdout",
     "output_type": "stream",
     "text": [
      "[[ 8  0]\n",
      " [ 0 12]]\n",
      "              precision    recall  f1-score   support\n",
      "\n",
      "           0       1.00      1.00      1.00         8\n",
      "           1       1.00      1.00      1.00        12\n",
      "\n",
      "    accuracy                           1.00        20\n",
      "   macro avg       1.00      1.00      1.00        20\n",
      "weighted avg       1.00      1.00      1.00        20\n",
      "\n",
      "Accuracy: 1.0\n"
     ]
    }
   ],
   "source": [
    "\n"
   ]
  },
  {
   "cell_type": "code",
   "execution_count": null,
   "id": "bd9d1852-4ae1-450d-8df4-e36d74e78701",
   "metadata": {},
   "outputs": [],
   "source": []
  }
 ],
 "metadata": {
  "kernelspec": {
   "display_name": "Python 3 (ipykernel)",
   "language": "python",
   "name": "python3"
  },
  "language_info": {
   "codemirror_mode": {
    "name": "ipython",
    "version": 3
   },
   "file_extension": ".py",
   "mimetype": "text/x-python",
   "name": "python",
   "nbconvert_exporter": "python",
   "pygments_lexer": "ipython3",
   "version": "3.12.5"
  }
 },
 "nbformat": 4,
 "nbformat_minor": 5
}
